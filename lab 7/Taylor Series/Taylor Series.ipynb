{
 "cells": [
  {
   "cell_type": "markdown",
   "metadata": {},
   "source": [
    "### 1 Reproduce Taylor Series in Python from Python for Undergraduate  Engineers for the functions in the Taylor Series figure above."
   ]
  },
  {
   "cell_type": "markdown",
   "metadata": {},
   "source": [
    "La serie de tailor para $e^x$ es:\n",
    "\n",
    "$$ \n",
    "e^{x} \\approx \\sum^{\\infty}_{n = 0} \\frac{x^n}{n!} \\approx 1 + x + \\frac{x^2}{2!} + \\frac{x^3}{3!} + \\frac{x^4}{4!} + ...\n",
    "$$\n",
    "\n",
    "Con los primeros 4 terminos, tenemos que\n"
   ]
  },
  {
   "cell_type": "code",
   "execution_count": 1,
   "metadata": {},
   "outputs": [
    {
     "name": "stdout",
     "output_type": "stream",
     "text": [
      "taylor: 7.0\n",
      "Valor: 7.38905609893065\n"
     ]
    }
   ],
   "source": [
    "import math\n",
    "\n",
    "x = 2\n",
    "e_to_2 = x**0/math.factorial(0) + x**1/math.factorial(1) + x**2/math.factorial(2) + x**3/math.factorial(3) + x**4/math.factorial(4)\n",
    "print(\"taylor:\", e_to_2)\n",
    "print(\"Valor:\", math.exp(2))"
   ]
  },
  {
   "cell_type": "markdown",
   "metadata": {},
   "source": [
    "Para tener mas precision, se utiliza un ciclo"
   ]
  },
  {
   "cell_type": "code",
   "execution_count": 2,
   "metadata": {},
   "outputs": [
    {
     "name": "stdout",
     "output_type": "stream",
     "text": [
      "taylor 10: 7.3887125220458545\n",
      "Valor: 7.38905609893065\n"
     ]
    }
   ],
   "source": [
    "x = 2\n",
    "e_to_2 = 0\n",
    "for i in range(10):\n",
    "    e_to_2 += x**i/math.factorial(i)\n",
    "    \n",
    "print(\"taylor 10:\", e_to_2)\n",
    "print(\"Valor:\", math.exp(2))"
   ]
  },
  {
   "cell_type": "markdown",
   "metadata": {},
   "source": [
    "Se crea una funcion para poder aproximar $e^x$ con n terminos y cualquier x."
   ]
  },
  {
   "cell_type": "code",
   "execution_count": 3,
   "metadata": {},
   "outputs": [],
   "source": [
    "def func_e(x, n):\n",
    "    e_approx = 0\n",
    "    for i in range(n):\n",
    "        e_approx += x**i/math.factorial(i)\n",
    "    \n",
    "    return e_approx"
   ]
  },
  {
   "cell_type": "code",
   "execution_count": 4,
   "metadata": {},
   "outputs": [
    {
     "name": "stdout",
     "output_type": "stream",
     "text": [
      "taylor(2, 10): 7.3887125220458545\n"
     ]
    }
   ],
   "source": [
    "out = func_e(2,10)\n",
    "print(\"taylor(2, 10):\", out)"
   ]
  },
  {
   "cell_type": "markdown",
   "metadata": {},
   "source": [
    "Es importante conocer el error de la aproximacion con el valor real"
   ]
  },
  {
   "cell_type": "code",
   "execution_count": 5,
   "metadata": {},
   "outputs": [
    {
     "name": "stdout",
     "output_type": "stream",
     "text": [
      "1 terms: Taylor Series approx= 1.0, exp calc= 148.4131591025766, error = 147.4131591025766\n",
      "2 terms: Taylor Series approx= 6.0, exp calc= 148.4131591025766, error = 142.4131591025766\n",
      "3 terms: Taylor Series approx= 18.5, exp calc= 148.4131591025766, error = 129.9131591025766\n",
      "4 terms: Taylor Series approx= 39.33333333333333, exp calc= 148.4131591025766, error = 109.07982576924327\n",
      "5 terms: Taylor Series approx= 65.375, exp calc= 148.4131591025766, error = 83.0381591025766\n",
      "6 terms: Taylor Series approx= 91.41666666666667, exp calc= 148.4131591025766, error = 56.99649243590993\n",
      "7 terms: Taylor Series approx= 113.11805555555556, exp calc= 148.4131591025766, error = 35.29510354702104\n",
      "8 terms: Taylor Series approx= 128.61904761904762, exp calc= 148.4131591025766, error = 19.79411148352898\n",
      "9 terms: Taylor Series approx= 138.30716765873015, exp calc= 148.4131591025766, error = 10.105991443846449\n",
      "10 terms: Taylor Series approx= 143.68945656966488, exp calc= 148.4131591025766, error = 4.723702532911716\n"
     ]
    }
   ],
   "source": [
    "x = 5\n",
    "for i in range(1,11):\n",
    "    e_approx = func_e(x,i)\n",
    "    e_exp = math.exp(x)\n",
    "    e_error = abs(e_approx - e_exp)\n",
    "    print(f'{i} terms: Taylor Series approx= {e_approx}, exp calc= {e_exp}, error = {e_error}')"
   ]
  },
  {
   "cell_type": "markdown",
   "metadata": {},
   "source": [
    "Para conocer cuantas iteraciones son requeridas para obtener un error < 1 se utiliza un break "
   ]
  },
  {
   "cell_type": "code",
   "execution_count": 6,
   "metadata": {},
   "outputs": [
    {
     "name": "stdout",
     "output_type": "stream",
     "text": [
      "12 terms: Taylor Series approx= 147.60384850489015, exp calc= 148.4131591025766, error = 0.8093105976864479\n"
     ]
    }
   ],
   "source": [
    "x = 5\n",
    "for i in range(1,20):\n",
    "    e_approx = func_e(x,i)\n",
    "    e_exp = math.exp(x)\n",
    "    e_error = abs(e_approx - e_exp)\n",
    "    if e_error < 1:\n",
    "        break\n",
    "        \n",
    "print(f'{i} terms: Taylor Series approx= {e_approx}, exp calc= {e_exp}, error = {e_error}')"
   ]
  },
  {
   "cell_type": "markdown",
   "metadata": {},
   "source": [
    "La serie de tailor para $\\cos{x}$ es:\n",
    "\n",
    "$$ \n",
    "\\cos{x} \\approx \\sum^{\\infty}_{n = 0} (-1)^n \\frac{x^{2n}}{2n!} \\approx 1 - \\frac{x^2}{2!} + \\frac{x^4}{4!} - \\frac{x^6}{6!} + \\frac{x^8}{8!} - \\frac{x^10}{10!} + ...\n",
    "$$\n",
    "\n",
    "La funcion para la aproximacion sera la siguiente"
   ]
  },
  {
   "cell_type": "code",
   "execution_count": 7,
   "metadata": {},
   "outputs": [],
   "source": [
    "def func_cos(x, n):\n",
    "    cos_approx = 0\n",
    "    for i in range(n):\n",
    "        coef = (-1)**i\n",
    "        num = x**(2*i)\n",
    "        denom = math.factorial(2*i)\n",
    "        cos_approx += ( coef ) * ( (num)/(denom) )\n",
    "    \n",
    "    return cos_approx"
   ]
  },
  {
   "cell_type": "code",
   "execution_count": 8,
   "metadata": {},
   "outputs": [
    {
     "name": "stdout",
     "output_type": "stream",
     "text": [
      "taylor(45, 5): 0.7071068056832942\n"
     ]
    }
   ],
   "source": [
    "angle_rad = (math.radians(45))\n",
    "out = func_cos(angle_rad,5)\n",
    "print(\"taylor(45, 5):\",out)"
   ]
  },
  {
   "cell_type": "markdown",
   "metadata": {},
   "source": [
    "Graficar la diferencia de la aproximacion de taylor y el valor real"
   ]
  },
  {
   "cell_type": "code",
   "execution_count": 9,
   "metadata": {},
   "outputs": [
    {
     "data": {
      "image/png": "[encoded data removed]",
      "text/plain": [
       "<Figure size 432x288 with 1 Axes>"
      ]
     },
     "metadata": {
      "needs_background": "light"
     },
     "output_type": "display_data"
    }
   ],
   "source": [
    "import numpy as np\n",
    "import matplotlib.pyplot as plt\n",
    "# if using a Jupyter notebook, include:\n",
    "%matplotlib inline\n",
    "\n",
    "angles = np.arange(-2*np.pi,2*np.pi,0.1)\n",
    "p_cos = np.cos(angles)\n",
    "t_cos = [func_cos(angle,3) for angle in angles]\n",
    "\n",
    "fig, ax = plt.subplots()\n",
    "ax.plot(angles,p_cos)\n",
    "ax.plot(angles,t_cos)\n",
    "ax.set_ylim([-5,5])\n",
    "ax.legend(['cos() function','Taylor Series - 3 terms'])\n",
    "\n",
    "plt.show()"
   ]
  },
  {
   "cell_type": "markdown",
   "metadata": {},
   "source": [
    "Con un ciclo se pueden ver varias aproximaciones facilmente"
   ]
  },
  {
   "cell_type": "code",
   "execution_count": 10,
   "metadata": {},
   "outputs": [
    {
     "data": {
      "image/png": "[encoded data removed]",
      "text/plain": [
       "<Figure size 432x288 with 1 Axes>"
      ]
     },
     "metadata": {
      "needs_background": "light"
     },
     "output_type": "display_data"
    }
   ],
   "source": [
    "angles = np.arange(-2*np.pi,2*np.pi,0.1)\n",
    "p_cos = np.cos(angles)\n",
    "\n",
    "fig, ax = plt.subplots()\n",
    "ax.plot(angles,p_cos)\n",
    "\n",
    "# add lines for between 1 and 6 terms in the Taylor Series\n",
    "for i in range(1,6):\n",
    "    t_cos = [func_cos(angle,i) for angle in angles]\n",
    "    ax.plot(angles,t_cos)\n",
    "\n",
    "ax.set_ylim([-7,4])\n",
    "\n",
    "# set up legend\n",
    "legend_lst = ['cos() function']\n",
    "for i in range(1,6):\n",
    "    legend_lst.append(f'Taylor Series - {i} terms')\n",
    "ax.legend(legend_lst, loc=3)\n",
    "\n",
    "plt.show()"
   ]
  },
  {
   "cell_type": "markdown",
   "metadata": {},
   "source": [
    "### 2."
   ]
  },
  {
   "cell_type": "code",
   "execution_count": 11,
   "metadata": {},
   "outputs": [
    {
     "name": "stdout",
     "output_type": "stream",
     "text": [
      "7.0\n"
     ]
    }
   ],
   "source": [
    "import math\n",
    "\n",
    "x = 2\n",
    "e_to_2 = x**0/math.factorial(0) + x**1/math.factorial(1) + x**2/math.factorial(2) + x**3/math.factorial(3) + x**4/math.factorial(4)\n",
    "print(e_to_2)"
   ]
  },
  {
   "cell_type": "code",
   "execution_count": 12,
   "metadata": {},
   "outputs": [
    {
     "name": "stdout",
     "output_type": "stream",
     "text": [
      "7.38905609893065\n"
     ]
    }
   ],
   "source": [
    "print(math.exp(2))"
   ]
  },
  {
   "cell_type": "code",
   "execution_count": 13,
   "metadata": {},
   "outputs": [
    {
     "name": "stdout",
     "output_type": "stream",
     "text": [
      "7.3887125220458545\n"
     ]
    }
   ],
   "source": [
    "import math\n",
    "\n",
    "x = 2\n",
    "e_to_2 = 0\n",
    "for i in range(10):\n",
    "    e_to_2 += x**i/math.factorial(i) \n",
    "    \n",
    "print(e_to_2)"
   ]
  },
  {
   "cell_type": "markdown",
   "metadata": {},
   "source": [
    "For the Taylor series for $f(x) = e^x$ about $c=0$ (Maclaurin)\n",
    "\n",
    "$$ E_n = \\frac{f^{(n+1)}(\\xi)}{(n+1)!}(x-c)^{(n+1)} = \\frac{e^\\xi}{(n+1)!}x^{(n+1)} \\le  \\frac{e^x}{(n+1)!}x^{(n+1)},\\text{ given that } $$\n",
    "If we want $E_n \\le \\epsilon$ then we need $n$ such that because $e^x \\ge e^\\xi$, for $c=0 \\le \\xi \\le x$\n",
    "\n",
    "$$ \\frac{e^x}{(n+1)!}x^{(n+1)} &lt; \\epsilon $$\n",
    "because $e^x \\ge e^\\xi$, for $0 \\le \\xi \\le x$."
   ]
  },
  {
   "cell_type": "code",
   "execution_count": 14,
   "metadata": {},
   "outputs": [
    {
     "name": "stdout",
     "output_type": "stream",
     "text": [
      "40\n",
      "0   0  delta  1.0\n",
      "1   1.0  delta  10.0\n",
      "2   11.0  delta  50.0\n",
      "3   61.0  delta  166.66666666666666\n",
      "4   227.66666666666666  delta  416.6666666666667\n",
      "5   644.3333333333334  delta  833.3333333333334\n",
      "6   1477.6666666666667  delta  1388.888888888889\n",
      "7   2866.5555555555557  delta  1984.126984126984\n",
      "8   4850.68253968254  delta  2480.15873015873\n",
      "9   7330.84126984127  delta  2755.731922398589\n",
      "10   10086.573192239859  delta  2755.731922398589\n",
      "11   12842.305114638448  delta  2505.210838544172\n",
      "12   15347.51595318262  delta  2087.67569878681\n",
      "13   17435.191651969428  delta  1605.9043836821616\n",
      "14   19041.09603565159  delta  1147.0745597729724\n",
      "15   20188.170595424563  delta  764.7163731819817\n",
      "16   20952.886968606545  delta  477.9477332387385\n",
      "17   21430.834701845284  delta  281.14572543455205\n",
      "18   21711.980427279836  delta  156.19206968586226\n",
      "19   21868.172496965697  delta  82.2063524662433\n",
      "20   21950.37884943194  delta  41.10317623312165\n",
      "21   21991.482025665064  delta  19.572941063391262\n",
      "22   22011.054966728454  delta  8.896791392450574\n",
      "23   22019.951758120904  delta  3.868170170630684\n",
      "24   22023.819928291534  delta  1.6117375710961184\n",
      "25   22025.43166586263  delta  0.6446950284384474\n",
      "26   22026.076360891067  delta  0.24795962632247975\n",
      "27   22026.32432051739  delta  0.09183689863795547\n",
      "28   22026.416157416028  delta  0.03279889237069838\n",
      "29   22026.4489563084  delta  0.011309962886447717\n",
      "30   22026.460266271286  delta  0.003769987628815906\n",
      "31   22026.464036258916  delta  0.001216125041553518\n",
      "32   22026.465252383958  delta  0.00038003907548547436\n",
      "33   22026.465632423035  delta  0.0001151633562077195\n",
      "34   22026.46574758639  delta  3.3871575355211616e-05\n",
      "35   22026.465781457966  delta  9.677592958631891e-06\n",
      "36   22026.465791135557  delta  2.6882202662866364e-06\n",
      "37   22026.465793823776  delta  7.265460179153071e-07\n",
      "38   22026.46579455032  delta  1.9119632050402818e-07\n",
      "39   22026.465794741518  delta  4.9024697565135436e-08\n",
      "math.exp(10) =  22026.465794806718\n"
     ]
    }
   ],
   "source": [
    "import math\n",
    "\n",
    "x = 10\n",
    "epsilon = 10**(-4)\n",
    "\n",
    "for k in range(1000):\n",
    "  if (((math.exp(x) * x ** (k+1) ) / math.factorial(k+1) ) < epsilon):\n",
    "    break\n",
    "print(k)\n",
    "\n",
    "e_to_x = 0\n",
    "for i in range(k):\n",
    "    print(i,' ',e_to_x, ' delta ', x**i/math.factorial(i))\n",
    "    e_to_x += x**i/math.factorial(i) \n",
    "    \n",
    "print('math.exp(10) = ',math.exp(10))"
   ]
  },
  {
   "cell_type": "markdown",
   "metadata": {},
   "source": [
    "$$\\frac{e^x}{(n+1)!}x^{(n+1)} &lt; \\frac{3^x}{(n+1)!}x^{(n+1)} &lt;  \\epsilon$$"
   ]
  },
  {
   "cell_type": "code",
   "execution_count": 15,
   "metadata": {},
   "outputs": [
    {
     "name": "stdout",
     "output_type": "stream",
     "text": [
      "58\n",
      "0   0  delta  1.0\n",
      "1   1.0  delta  10.0\n",
      "2   11.0  delta  50.0\n",
      "3   61.0  delta  166.66666666666666\n",
      "4   227.66666666666666  delta  416.6666666666667\n",
      "5   644.3333333333334  delta  833.3333333333334\n",
      "6   1477.6666666666667  delta  1388.888888888889\n",
      "7   2866.5555555555557  delta  1984.126984126984\n",
      "8   4850.68253968254  delta  2480.15873015873\n",
      "9   7330.84126984127  delta  2755.731922398589\n",
      "10   10086.573192239859  delta  2755.731922398589\n",
      "11   12842.305114638448  delta  2505.210838544172\n",
      "12   15347.51595318262  delta  2087.67569878681\n",
      "13   17435.191651969428  delta  1605.9043836821616\n",
      "14   19041.09603565159  delta  1147.0745597729724\n",
      "15   20188.170595424563  delta  764.7163731819817\n",
      "16   20952.886968606545  delta  477.9477332387385\n",
      "17   21430.834701845284  delta  281.14572543455205\n",
      "18   21711.980427279836  delta  156.19206968586226\n",
      "19   21868.172496965697  delta  82.2063524662433\n",
      "20   21950.37884943194  delta  41.10317623312165\n",
      "21   21991.482025665064  delta  19.572941063391262\n",
      "22   22011.054966728454  delta  8.896791392450574\n",
      "23   22019.951758120904  delta  3.868170170630684\n",
      "24   22023.819928291534  delta  1.6117375710961184\n",
      "25   22025.43166586263  delta  0.6446950284384474\n",
      "26   22026.076360891067  delta  0.24795962632247975\n",
      "27   22026.32432051739  delta  0.09183689863795547\n",
      "28   22026.416157416028  delta  0.03279889237069838\n",
      "29   22026.4489563084  delta  0.011309962886447717\n",
      "30   22026.460266271286  delta  0.003769987628815906\n",
      "31   22026.464036258916  delta  0.001216125041553518\n",
      "32   22026.465252383958  delta  0.00038003907548547436\n",
      "33   22026.465632423035  delta  0.0001151633562077195\n",
      "34   22026.46574758639  delta  3.3871575355211616e-05\n",
      "35   22026.465781457966  delta  9.677592958631891e-06\n",
      "36   22026.465791135557  delta  2.6882202662866364e-06\n",
      "37   22026.465793823776  delta  7.265460179153071e-07\n",
      "38   22026.46579455032  delta  1.9119632050402818e-07\n",
      "39   22026.465794741518  delta  4.9024697565135436e-08\n",
      "40   22026.465794790543  delta  1.2256174391283859e-08\n",
      "41   22026.4657948028  delta  2.9893108271424046e-09\n",
      "42   22026.46579480579  delta  7.11740673129144e-10\n",
      "43   22026.465794806503  delta  1.6552108677421953e-10\n",
      "44   22026.465794806667  delta  3.761842881232262e-11\n",
      "45   22026.465794806703  delta  8.359650847182803e-12\n",
      "46   22026.46579480671  delta  1.817315401561479e-12\n",
      "47   22026.46579480671  delta  3.866628513960594e-13\n",
      "48   22026.46579480671  delta  8.055476070751238e-14\n",
      "49   22026.46579480671  delta  1.643974708316579e-14\n",
      "50   22026.46579480671  delta  3.287949416633158e-15\n",
      "51   22026.46579480671  delta  6.446959640457173e-16\n",
      "52   22026.46579480671  delta  1.2397999308571487e-16\n",
      "53   22026.46579480671  delta  2.3392451525606577e-17\n",
      "54   22026.46579480671  delta  4.331935467704922e-18\n",
      "55   22026.46579480671  delta  7.876246304918039e-19\n",
      "56   22026.46579480671  delta  1.4064725544496499e-19\n",
      "57   22026.46579480671  delta  2.4674957095607893e-20\n",
      "58   22026.46579480671  delta  4.2543029475186024e-21\n",
      "math.exp(10) =  22026.465794806718\n"
     ]
    }
   ],
   "source": [
    "import math\n",
    "\n",
    "x = 10\n",
    "epsilon = 10**(-16)\n",
    "\n",
    "for k in range(1000):\n",
    "  if (  ( (3**x * x**(k+1)) / math.factorial(k+1) ) < epsilon):\n",
    "    break\n",
    "print(k)\n",
    "\n",
    "e_to_x = 0\n",
    "for i in range(k+1):\n",
    "    print(i,' ',e_to_x, ' delta ', x**i/math.factorial(i))\n",
    "    e_to_x += x**i/math.factorial(i) \n",
    "    \n",
    "print('math.exp(10) = ',math.exp(10))"
   ]
  },
  {
   "cell_type": "code",
   "execution_count": 16,
   "metadata": {},
   "outputs": [
    {
     "name": "stdout",
     "output_type": "stream",
     "text": [
      "34\n",
      "e_to_x =  22026.465781457966\n",
      "math.exp(10) =  22026.465794806718\n"
     ]
    }
   ],
   "source": [
    "x = 10\n",
    "epsilon = 10**(-4)\n",
    "delta = 1\n",
    "e_to_x = 0\n",
    "i = 0\n",
    "while  epsilon <= delta:\n",
    "  delta = x**i/math.factorial(i) \n",
    "  e_to_x += delta\n",
    "  i = i+1\n",
    "print(i-1) \n",
    "print('e_to_x = ',e_to_x)    \n",
    "print('math.exp(10) = ',math.exp(10))"
   ]
  },
  {
   "cell_type": "markdown",
   "metadata": {},
   "source": [
    "### 3."
   ]
  },
  {
   "cell_type": "markdown",
   "metadata": {},
   "source": [
    "LN(X+1)"
   ]
  },
  {
   "cell_type": "code",
   "execution_count": 17,
   "metadata": {},
   "outputs": [
    {
     "name": "stdout",
     "output_type": "stream",
     "text": [
      "taylor: 0.6936474305598223\n",
      "valor real: 0.6931471805599453\n"
     ]
    }
   ],
   "source": [
    "i = 1000\n",
    "x = 1\n",
    "\n",
    "suma = 0\n",
    "\n",
    "for n in range(1, i):\n",
    "    suma += (-1) ** (n + 1) * ((x ** n) / n)\n",
    "    \n",
    "print(\"taylor:\", suma)\n",
    "print(\"valor real:\", math.log(x + 1))"
   ]
  },
  {
   "cell_type": "code",
   "execution_count": 18,
   "metadata": {},
   "outputs": [
    {
     "name": "stdout",
     "output_type": "stream",
     "text": [
      "101\n",
      "1   0  delta  1.0\n",
      "2   1.0  delta  0.5\n",
      "3   0.5  delta  0.3333333333333333\n",
      "4   0.8333333333333333  delta  0.25\n",
      "5   0.5833333333333333  delta  0.2\n",
      "6   0.7833333333333332  delta  0.16666666666666666\n",
      "7   0.6166666666666666  delta  0.14285714285714285\n",
      "8   0.7595238095238095  delta  0.125\n",
      "9   0.6345238095238095  delta  0.1111111111111111\n",
      "10   0.7456349206349207  delta  0.1\n",
      "11   0.6456349206349207  delta  0.09090909090909091\n",
      "12   0.7365440115440116  delta  0.08333333333333333\n",
      "13   0.6532106782106782  delta  0.07692307692307693\n",
      "14   0.7301337551337552  delta  0.07142857142857142\n",
      "15   0.6587051837051838  delta  0.06666666666666667\n",
      "16   0.7253718503718505  delta  0.0625\n",
      "17   0.6628718503718505  delta  0.058823529411764705\n",
      "18   0.7216953797836152  delta  0.05555555555555555\n",
      "19   0.6661398242280596  delta  0.05263157894736842\n",
      "20   0.718771403175428  delta  0.05\n",
      "21   0.6687714031754279  delta  0.047619047619047616\n",
      "22   0.7163904507944756  delta  0.045454545454545456\n",
      "23   0.6709359053399302  delta  0.043478260869565216\n",
      "24   0.7144141662094954  delta  0.041666666666666664\n",
      "25   0.6727474995428288  delta  0.04\n",
      "26   0.7127474995428288  delta  0.038461538461538464\n",
      "27   0.6742859610812904  delta  0.037037037037037035\n",
      "28   0.7113229981183273  delta  0.03571428571428571\n",
      "29   0.6756087124040416  delta  0.034482758620689655\n",
      "30   0.7100914710247312  delta  0.03333333333333333\n",
      "31   0.6767581376913979  delta  0.03225806451612903\n",
      "32   0.7090162022075269  delta  0.03125\n",
      "33   0.6777662022075269  delta  0.030303030303030304\n",
      "34   0.7080692325105572  delta  0.029411764705882353\n",
      "35   0.6786574678046748  delta  0.02857142857142857\n",
      "36   0.7072288963761034  delta  0.027777777777777776\n",
      "37   0.6794511185983256  delta  0.02702702702702703\n",
      "38   0.7064781456253526  delta  0.02631578947368421\n",
      "39   0.6801623561516684  delta  0.02564102564102564\n",
      "40   0.7058033817926941  delta  0.025\n",
      "41   0.6808033817926941  delta  0.024390243902439025\n",
      "42   0.7051936256951331  delta  0.023809523809523808\n",
      "43   0.6813841018856093  delta  0.023255813953488372\n",
      "44   0.7046399158390977  delta  0.022727272727272728\n",
      "45   0.681912643111825  delta  0.022222222222222223\n",
      "46   0.7041348653340472  delta  0.021739130434782608\n",
      "47   0.6823957348992646  delta  0.02127659574468085\n",
      "48   0.7036723306439455  delta  0.020833333333333332\n",
      "49   0.6828389973106122  delta  0.02040816326530612\n",
      "50   0.7032471605759183  delta  0.02\n",
      "51   0.6832471605759183  delta  0.0196078431372549\n",
      "52   0.7028550037131732  delta  0.019230769230769232\n",
      "53   0.683624234482404  delta  0.018867924528301886\n",
      "54   0.7024921590107058  delta  0.018518518518518517\n",
      "55   0.6839736404921873  delta  0.01818181818181818\n",
      "56   0.7021554586740055  delta  0.017857142857142856\n",
      "57   0.6842983158168626  delta  0.017543859649122806\n",
      "58   0.7018421754659854  delta  0.017241379310344827\n",
      "59   0.6846007961556405  delta  0.01694915254237288\n",
      "60   0.7015499486980133  delta  0.016666666666666666\n",
      "61   0.6848832820313466  delta  0.01639344262295082\n",
      "62   0.7012767246542975  delta  0.016129032258064516\n",
      "63   0.685147692396233  delta  0.015873015873015872\n",
      "64   0.7010207082692488  delta  0.015625\n",
      "65   0.6853957082692488  delta  0.015384615384615385\n",
      "66   0.7007803236538641  delta  0.015151515151515152\n",
      "67   0.685628808502349  delta  0.014925373134328358\n",
      "68   0.7005541816366774  delta  0.014705882352941176\n",
      "69   0.6858482992837363  delta  0.014492753623188406\n",
      "70   0.7003410529069246  delta  0.014285714285714285\n",
      "71   0.6860553386212104  delta  0.014084507042253521\n",
      "72   0.7001398456634639  delta  0.013888888888888888\n",
      "73   0.686250956774575  delta  0.0136986301369863\n",
      "74   0.6999495869115613  delta  0.013513513513513514\n",
      "75   0.6864360733980478  delta  0.013333333333333334\n",
      "76   0.6997694067313811  delta  0.013157894736842105\n",
      "77   0.686611511994539  delta  0.012987012987012988\n",
      "78   0.699598524981552  delta  0.01282051282051282\n",
      "79   0.6867780121610392  delta  0.012658227848101266\n",
      "80   0.6994362400091404  delta  0.0125\n",
      "81   0.6869362400091404  delta  0.012345679012345678\n",
      "82   0.6992819190214861  delta  0.012195121951219513\n",
      "83   0.6870867970702665  delta  0.012048192771084338\n",
      "84   0.6991349898413509  delta  0.011904761904761904\n",
      "85   0.687230227936589  delta  0.011764705882352941\n",
      "86   0.698994933818942  delta  0.011627906976744186\n",
      "87   0.6873670268421977  delta  0.011494252873563218\n",
      "88   0.698861279715761  delta  0.011363636363636364\n",
      "89   0.6874976433521246  delta  0.011235955056179775\n",
      "90   0.6987335984083044  delta  0.011111111111111112\n",
      "91   0.6876224872971933  delta  0.01098901098901099\n",
      "92   0.6986114982862043  delta  0.010869565217391304\n",
      "93   0.6877419330688129  delta  0.010752688172043012\n",
      "94   0.6984946212408559  delta  0.010638297872340425\n",
      "95   0.6878563233685155  delta  0.010526315789473684\n",
      "96   0.6983826391579893  delta  0.010416666666666666\n",
      "97   0.6879659724913226  delta  0.010309278350515464\n",
      "98   0.6982752508418381  delta  0.01020408163265306\n",
      "99   0.688071169209185  delta  0.010101010101010102\n",
      "100   0.698172179310195  delta  0.01\n",
      "math.log(1 + 1) =  0.6931471805599453\n"
     ]
    }
   ],
   "source": [
    "import math\n",
    "\n",
    "x = 1\n",
    "epsilon = 10**(-2)\n",
    "\n",
    "for k in range(1,10000):\n",
    "  if ((x ** k) / k) < epsilon:  \n",
    "    break\n",
    "print(k)\n",
    "\n",
    "e_to_x = 0\n",
    "for i in range(1, k):\n",
    "    print(i,' ', e_to_x, ' delta ', ((x ** i) / i))\n",
    "    e_to_x += (-1) ** (i + 1) * ((x ** i) / i)\n",
    "    \n",
    "print('math.log(1 + 1) = ', math.log(x + 1))"
   ]
  },
  {
   "cell_type": "code",
   "execution_count": 19,
   "metadata": {},
   "outputs": [
    {
     "name": "stdout",
     "output_type": "stream",
     "text": [
      "101\n",
      "ln(x+1) =  0.6980731694092049\n",
      "math.log(1+1) =  0.6931471805599453\n"
     ]
    }
   ],
   "source": [
    "x = 1\n",
    "epsilon = 10**(-2)\n",
    "delta = 1\n",
    "e_to_x = 0\n",
    "i = 1\n",
    "\n",
    "while epsilon <= abs(delta):\n",
    "    delta = (-1) ** (i + 1) * ((x ** i) / i)\n",
    "    e_to_x += delta\n",
    "    i = i+1   \n",
    "    \n",
    "print(i-1) \n",
    "print('ln(x+1) = ',e_to_x)    \n",
    "print('math.log(1+1) = ',math.log(x+1))"
   ]
  },
  {
   "cell_type": "markdown",
   "metadata": {},
   "source": [
    "SIN(x)"
   ]
  },
  {
   "cell_type": "code",
   "execution_count": 20,
   "metadata": {},
   "outputs": [
    {
     "name": "stdout",
     "output_type": "stream",
     "text": [
      "taylor: 0.8414709848078965\n",
      "valor real: 0.8414709848078965\n"
     ]
    }
   ],
   "source": [
    "i = 1000\n",
    "x = 1\n",
    "\n",
    "suma = 0\n",
    "\n",
    "for n in range(i):\n",
    "    suma += (-1) ** (n) * (x ** (2*n + 1) / math.factorial(2*n+1))\n",
    "    \n",
    "print(\"taylor:\", suma)\n",
    "print(\"valor real:\", math.sin(x))"
   ]
  },
  {
   "cell_type": "code",
   "execution_count": 21,
   "metadata": {},
   "outputs": [
    {
     "name": "stdout",
     "output_type": "stream",
     "text": [
      "4\n",
      "0   0  delta  1.0\n",
      "1   1.0  delta  0.16666666666666666\n",
      "2   0.8333333333333334  delta  0.008333333333333333\n",
      "3   0.8416666666666667  delta  0.0001984126984126984\n",
      "math.sin(1) =  0.8414709848078965\n"
     ]
    }
   ],
   "source": [
    "x = 1\n",
    "epsilon = 10**(-4)\n",
    "\n",
    "for k in range(1,10000):\n",
    "  if (x ** (2*k + 1) / math.factorial(2*k+1)) < epsilon:  \n",
    "    break\n",
    "print(k)\n",
    "\n",
    "e_to_x = 0\n",
    "for i in range(k):\n",
    "    print(i,' ', e_to_x, ' delta ', (x ** (2 * i + 1) / math.factorial(2 * i + 1)))\n",
    "    e_to_x += (-1) ** (i) * (x ** (2 * i + 1) / math.factorial(2 * i + 1))\n",
    "    \n",
    "print('math.sin(1) = ', math.sin(x))"
   ]
  },
  {
   "cell_type": "code",
   "execution_count": 22,
   "metadata": {},
   "outputs": [
    {
     "name": "stdout",
     "output_type": "stream",
     "text": [
      "4\n",
      "taylor sin(1) =  0.8414710097001764\n",
      "math.sin(1) =  0.8414709848078965\n"
     ]
    }
   ],
   "source": [
    "x = 1\n",
    "epsilon = 10**(-4)\n",
    "delta = 1\n",
    "e_to_x = 0\n",
    "i = 0\n",
    "\n",
    "while epsilon <= abs(delta):\n",
    "    delta = (-1) ** (i) * (x ** (2 * i + 1) / math.factorial(2 * i + 1))\n",
    "    e_to_x += delta\n",
    "    i = i+1   \n",
    "    \n",
    "print(i-1) \n",
    "print('taylor sin(1) = ',e_to_x)    \n",
    "print('math.sin(1) = ',math.sin(x))"
   ]
  }
 ],
 "metadata": {
  "kernelspec": {
   "display_name": "Python 3",
   "language": "python",
   "name": "python3"
  },
  "language_info": {
   "codemirror_mode": {
    "name": "ipython",
    "version": 3
   },
   "file_extension": ".py",
   "mimetype": "text/x-python",
   "name": "python",
   "nbconvert_exporter": "python",
   "pygments_lexer": "ipython3",
   "version": "3.7.4"
  }
 },
 "nbformat": 4,
 "nbformat_minor": 4
}
