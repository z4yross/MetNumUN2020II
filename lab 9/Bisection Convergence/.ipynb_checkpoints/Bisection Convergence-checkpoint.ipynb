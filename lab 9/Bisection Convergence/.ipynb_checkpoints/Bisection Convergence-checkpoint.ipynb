{
 "cells": [
  {
   "cell_type": "code",
   "execution_count": 1,
   "metadata": {},
   "outputs": [],
   "source": [
    "import matplotlib.pyplot as plt\n",
    "import numpy as np\n",
    "from matplotlib.colors import hsv_to_rgb"
   ]
  },
  {
   "cell_type": "code",
   "execution_count": 2,
   "metadata": {},
   "outputs": [],
   "source": [
    "def bisection_convergence(f, oots, width, height, cx, cy, mnx, mxx, mny, mxy, niter, zoom):\n",
    "    \n",
    "    pixels = np.arange(width*height*3, dtype=np.float32).reshape(height, width, 3)\n",
    "\n",
    "    eps = 1e-3\n",
    "    \n",
    "    for y in range(height):\n",
    "        zy = cy + map(y, 0, height, mny*zoom, mxy*zoom)\n",
    "\n",
    "        for x in range(width):            \n",
    "            zx = cy + map(x, 0, width, mnx*zoom, mxx*zoom)\n",
    "\n",
    "            a = zy\n",
    "            b = zx\n",
    "            c = a\n",
    "            \n",
    "            count = 0\n",
    "            \n",
    "            while b-a >= eps and f(a) * f(b) <= 0:\n",
    "                \n",
    "                if f(a) == 0.0:\n",
    "                    c = a\n",
    "                    break\n",
    "                    \n",
    "                if f(b) == 0.0:\n",
    "                    c = b\n",
    "                    break\n",
    "                     \n",
    "                c = (a + b) / 2\n",
    "                \n",
    "                if f(c) * f(a) < 0:\n",
    "                    b = c\n",
    "                else:\n",
    "                    a = c\n",
    "                \n",
    "                count += 1\n",
    "                \n",
    "                if count > niter:\n",
    "                    break\n",
    "                    \n",
    "            \n",
    "            c_root = False\n",
    "                \n",
    "            for j, root in enumerate(roots):\n",
    "                    cMap = map(count, 0, niter, 1, 0.5)\n",
    "                    \n",
    "                    if abs(c - root) < eps:\n",
    "                        c_root = True\n",
    "                        pixels[height-x-1,y] = hsv_to_rgb((\n",
    "                            map(j, 0, len(roots), 0, 1) * cMap, \n",
    "                            cMap,\n",
    "                            map(j, 0, len(roots), 1, 0) * cMap \n",
    "                        ))\n",
    "                        \n",
    "            if not c_root:\n",
    "                if b < a:\n",
    "                    pixels[height-x-1,y] = (1, 1, 0)\n",
    "                elif f(a) * f(b) >= 0:\n",
    "                    pixels[height-x-1,y] = (1, 1, 1)\n",
    "                else:\n",
    "                    pixels[height-x-1,y] = (0, 0, 0)\n",
    "                    \n",
    "                    \n",
    "    return pixels\n",
    "\n",
    "def ds(f, roots, name,\n",
    "       width = 320, height = 320,\n",
    "       cx = 0, cy = 0, mnx = -8.0, \n",
    "       mxx = 8.0, mny = -8.0, mxy = 8.0, \n",
    "       niter = 1e4, zoom = 1):\n",
    "\n",
    "    pimg = bisection_convergence(f, roots, width, height, cx, cy, mnx, mxx, mny, mxy, niter, zoom)\n",
    "    \n",
    "    plt.title('bisection_convergence ' + name)\n",
    "    \n",
    "    plt.xlabel(\"a in \"\n",
    "               + \"(\"\n",
    "               + str(cx + map(0, 0, width, mnx*zoom, mxx*zoom))\n",
    "               + \",\"\n",
    "               + str(cx + map(width, 0, width, mnx*zoom, mxx*zoom))\n",
    "               + \")\"\n",
    "              )\n",
    "    \n",
    "    plt.ylabel(\"b in\"\n",
    "               + \"(\"\n",
    "               + str(cy + map(0, 0, height, mny*zoom, mxy*zoom))\n",
    "               + \",\"\n",
    "               + str(cy + map(height, 0, height, mny*zoom, mxy*zoom)) \n",
    "               + \")\")\n",
    "    \n",
    "    extent = mnx, mxx, mny, mxy\n",
    "    plt.imshow(pimg, extent = extent)\n",
    "    plt.show()\n",
    "\n",
    "def map(value, istart, istop, ostart, ostop):\n",
    "    return ostart + (ostop - ostart) * ((value - istart) / (istop - istart))"
   ]
  },
  {
   "cell_type": "code",
   "execution_count": 3,
   "metadata": {},
   "outputs": [
    {
     "data": {
      "image/png": "[encoded data removed]",
      "text/plain": [
       "<Figure size 432x288 with 1 Axes>"
      ]
     },
     "metadata": {
      "needs_background": "light"
     },
     "output_type": "display_data"
    }
   ],
   "source": [
    "def f(x): \n",
    "    return (x-1) *(x-2) * (x-3) * (x-4)\n",
    "\n",
    "roots = [1, 2, 3, 4]\n",
    "\n",
    "ds(f, roots, \"(x-1) *(x-2) * (x-3) * (x-4)\", \n",
    "   zoom = 1, mnx = 0, mxx = 5, mny = 0, mxy = 5)"
   ]
  }
 ],
 "metadata": {
  "kernelspec": {
   "display_name": "Python 3",
   "language": "python",
   "name": "python3"
  },
  "language_info": {
   "codemirror_mode": {
    "name": "ipython",
    "version": 3
   },
   "file_extension": ".py",
   "mimetype": "text/x-python",
   "name": "python",
   "nbconvert_exporter": "python",
   "pygments_lexer": "ipython3",
   "version": "3.7.4"
  }
 },
 "nbformat": 4,
 "nbformat_minor": 4
}
